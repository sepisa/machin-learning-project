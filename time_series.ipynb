{
 "cells": [
  {
   "cell_type": "code",
   "execution_count": 82,
   "id": "eacf1a08",
   "metadata": {},
   "outputs": [],
   "source": [
    "import pandas as pd\n",
    "import numpy as np\n",
    "import tensorflow as tf\n",
    "import matplotlib.pyplot as plt\n",
    "from tensorflow import keras\n",
    "from matplotlib import rc\n",
    "import seaborn as sns\n",
    "from pylab import rcParams\n",
    "from sklearn.model_selection import train_test_split\n",
    "from pandas.plotting import register_matplotlib_converters\n",
    "\n",
    "%matplotlib inline\n",
    "\n",
    "RANDOM_SEED = 42\n",
    "\n",
    "np.random.seed(RANDOM_SEED)\n",
    "tf.random.set_seed(RANDOM_SEED)"
   ]
  },
  {
   "cell_type": "code",
   "execution_count": 33,
   "id": "34d9c7f6",
   "metadata": {},
   "outputs": [
    {
     "data": {
      "text/html": [
       "<div>\n",
       "<style scoped>\n",
       "    .dataframe tbody tr th:only-of-type {\n",
       "        vertical-align: middle;\n",
       "    }\n",
       "\n",
       "    .dataframe tbody tr th {\n",
       "        vertical-align: top;\n",
       "    }\n",
       "\n",
       "    .dataframe thead th {\n",
       "        text-align: right;\n",
       "    }\n",
       "</style>\n",
       "<table border=\"1\" class=\"dataframe\">\n",
       "  <thead>\n",
       "    <tr style=\"text-align: right;\">\n",
       "      <th></th>\n",
       "      <th>cnt</th>\n",
       "      <th>t1</th>\n",
       "      <th>t2</th>\n",
       "      <th>hum</th>\n",
       "      <th>wind_speed</th>\n",
       "      <th>weather_code</th>\n",
       "      <th>is_holiday</th>\n",
       "      <th>is_weekend</th>\n",
       "      <th>season</th>\n",
       "    </tr>\n",
       "    <tr>\n",
       "      <th>timestamp</th>\n",
       "      <th></th>\n",
       "      <th></th>\n",
       "      <th></th>\n",
       "      <th></th>\n",
       "      <th></th>\n",
       "      <th></th>\n",
       "      <th></th>\n",
       "      <th></th>\n",
       "      <th></th>\n",
       "    </tr>\n",
       "  </thead>\n",
       "  <tbody>\n",
       "    <tr>\n",
       "      <th>2015-01-04 00:00:00</th>\n",
       "      <td>182</td>\n",
       "      <td>3.0</td>\n",
       "      <td>2.0</td>\n",
       "      <td>93.0</td>\n",
       "      <td>6.0</td>\n",
       "      <td>3.0</td>\n",
       "      <td>0.0</td>\n",
       "      <td>1.0</td>\n",
       "      <td>3.0</td>\n",
       "    </tr>\n",
       "    <tr>\n",
       "      <th>2015-01-04 01:00:00</th>\n",
       "      <td>138</td>\n",
       "      <td>3.0</td>\n",
       "      <td>2.5</td>\n",
       "      <td>93.0</td>\n",
       "      <td>5.0</td>\n",
       "      <td>1.0</td>\n",
       "      <td>0.0</td>\n",
       "      <td>1.0</td>\n",
       "      <td>3.0</td>\n",
       "    </tr>\n",
       "    <tr>\n",
       "      <th>2015-01-04 02:00:00</th>\n",
       "      <td>134</td>\n",
       "      <td>2.5</td>\n",
       "      <td>2.5</td>\n",
       "      <td>96.5</td>\n",
       "      <td>0.0</td>\n",
       "      <td>1.0</td>\n",
       "      <td>0.0</td>\n",
       "      <td>1.0</td>\n",
       "      <td>3.0</td>\n",
       "    </tr>\n",
       "    <tr>\n",
       "      <th>2015-01-04 03:00:00</th>\n",
       "      <td>72</td>\n",
       "      <td>2.0</td>\n",
       "      <td>2.0</td>\n",
       "      <td>100.0</td>\n",
       "      <td>0.0</td>\n",
       "      <td>1.0</td>\n",
       "      <td>0.0</td>\n",
       "      <td>1.0</td>\n",
       "      <td>3.0</td>\n",
       "    </tr>\n",
       "    <tr>\n",
       "      <th>2015-01-04 04:00:00</th>\n",
       "      <td>47</td>\n",
       "      <td>2.0</td>\n",
       "      <td>0.0</td>\n",
       "      <td>93.0</td>\n",
       "      <td>6.5</td>\n",
       "      <td>1.0</td>\n",
       "      <td>0.0</td>\n",
       "      <td>1.0</td>\n",
       "      <td>3.0</td>\n",
       "    </tr>\n",
       "  </tbody>\n",
       "</table>\n",
       "</div>"
      ],
      "text/plain": [
       "                     cnt   t1   t2    hum  wind_speed  weather_code  is_holiday  is_weekend  season\n",
       "timestamp                                                                                          \n",
       "2015-01-04 00:00:00  182  3.0  2.0   93.0         6.0           3.0         0.0         1.0     3.0\n",
       "2015-01-04 01:00:00  138  3.0  2.5   93.0         5.0           1.0         0.0         1.0     3.0\n",
       "2015-01-04 02:00:00  134  2.5  2.5   96.5         0.0           1.0         0.0         1.0     3.0\n",
       "2015-01-04 03:00:00   72  2.0  2.0  100.0         0.0           1.0         0.0         1.0     3.0\n",
       "2015-01-04 04:00:00   47  2.0  0.0   93.0         6.5           1.0         0.0         1.0     3.0"
      ]
     },
     "execution_count": 33,
     "metadata": {},
     "output_type": "execute_result"
    }
   ],
   "source": [
    "df = pd.read_csv('london_merged.csv', parse_dates=['timestamp'], index_col='timestamp')\n",
    "df.head()"
   ]
  },
  {
   "cell_type": "code",
   "execution_count": 34,
   "id": "2592ea13",
   "metadata": {},
   "outputs": [
    {
     "data": {
      "text/plain": [
       "DatetimeIndex(['2015-01-04 00:00:00', '2015-01-04 01:00:00',\n",
       "               '2015-01-04 02:00:00', '2015-01-04 03:00:00',\n",
       "               '2015-01-04 04:00:00', '2015-01-04 05:00:00',\n",
       "               '2015-01-04 06:00:00', '2015-01-04 07:00:00',\n",
       "               '2015-01-04 08:00:00', '2015-01-04 09:00:00',\n",
       "               ...\n",
       "               '2017-01-03 14:00:00', '2017-01-03 15:00:00',\n",
       "               '2017-01-03 16:00:00', '2017-01-03 17:00:00',\n",
       "               '2017-01-03 18:00:00', '2017-01-03 19:00:00',\n",
       "               '2017-01-03 20:00:00', '2017-01-03 21:00:00',\n",
       "               '2017-01-03 22:00:00', '2017-01-03 23:00:00'],\n",
       "              dtype='datetime64[ns]', name='timestamp', length=17414, freq=None)"
      ]
     },
     "execution_count": 34,
     "metadata": {},
     "output_type": "execute_result"
    }
   ],
   "source": [
    "df.index"
   ]
  },
  {
   "cell_type": "code",
   "execution_count": 35,
   "id": "d525587f",
   "metadata": {},
   "outputs": [],
   "source": [
    "df['hour'] = df.index.hour\n",
    "df['day_of_week'] = df.index.day_of_week\n",
    "df['day_of_month'] = df.index.day\n",
    "df['month'] = df.index.month\n"
   ]
  },
  {
   "cell_type": "code",
   "execution_count": 36,
   "id": "1d528a94",
   "metadata": {},
   "outputs": [
    {
     "data": {
      "text/html": [
       "<div>\n",
       "<style scoped>\n",
       "    .dataframe tbody tr th:only-of-type {\n",
       "        vertical-align: middle;\n",
       "    }\n",
       "\n",
       "    .dataframe tbody tr th {\n",
       "        vertical-align: top;\n",
       "    }\n",
       "\n",
       "    .dataframe thead th {\n",
       "        text-align: right;\n",
       "    }\n",
       "</style>\n",
       "<table border=\"1\" class=\"dataframe\">\n",
       "  <thead>\n",
       "    <tr style=\"text-align: right;\">\n",
       "      <th></th>\n",
       "      <th>cnt</th>\n",
       "      <th>t1</th>\n",
       "      <th>t2</th>\n",
       "      <th>hum</th>\n",
       "      <th>wind_speed</th>\n",
       "      <th>weather_code</th>\n",
       "      <th>is_holiday</th>\n",
       "      <th>is_weekend</th>\n",
       "      <th>season</th>\n",
       "      <th>hour</th>\n",
       "      <th>day_of_week</th>\n",
       "      <th>day_of_month</th>\n",
       "      <th>month</th>\n",
       "    </tr>\n",
       "    <tr>\n",
       "      <th>timestamp</th>\n",
       "      <th></th>\n",
       "      <th></th>\n",
       "      <th></th>\n",
       "      <th></th>\n",
       "      <th></th>\n",
       "      <th></th>\n",
       "      <th></th>\n",
       "      <th></th>\n",
       "      <th></th>\n",
       "      <th></th>\n",
       "      <th></th>\n",
       "      <th></th>\n",
       "      <th></th>\n",
       "    </tr>\n",
       "  </thead>\n",
       "  <tbody>\n",
       "    <tr>\n",
       "      <th>2015-01-04 00:00:00</th>\n",
       "      <td>182</td>\n",
       "      <td>3.0</td>\n",
       "      <td>2.0</td>\n",
       "      <td>93.0</td>\n",
       "      <td>6.0</td>\n",
       "      <td>3.0</td>\n",
       "      <td>0.0</td>\n",
       "      <td>1.0</td>\n",
       "      <td>3.0</td>\n",
       "      <td>0</td>\n",
       "      <td>6</td>\n",
       "      <td>4</td>\n",
       "      <td>1</td>\n",
       "    </tr>\n",
       "    <tr>\n",
       "      <th>2015-01-04 01:00:00</th>\n",
       "      <td>138</td>\n",
       "      <td>3.0</td>\n",
       "      <td>2.5</td>\n",
       "      <td>93.0</td>\n",
       "      <td>5.0</td>\n",
       "      <td>1.0</td>\n",
       "      <td>0.0</td>\n",
       "      <td>1.0</td>\n",
       "      <td>3.0</td>\n",
       "      <td>1</td>\n",
       "      <td>6</td>\n",
       "      <td>4</td>\n",
       "      <td>1</td>\n",
       "    </tr>\n",
       "    <tr>\n",
       "      <th>2015-01-04 02:00:00</th>\n",
       "      <td>134</td>\n",
       "      <td>2.5</td>\n",
       "      <td>2.5</td>\n",
       "      <td>96.5</td>\n",
       "      <td>0.0</td>\n",
       "      <td>1.0</td>\n",
       "      <td>0.0</td>\n",
       "      <td>1.0</td>\n",
       "      <td>3.0</td>\n",
       "      <td>2</td>\n",
       "      <td>6</td>\n",
       "      <td>4</td>\n",
       "      <td>1</td>\n",
       "    </tr>\n",
       "    <tr>\n",
       "      <th>2015-01-04 03:00:00</th>\n",
       "      <td>72</td>\n",
       "      <td>2.0</td>\n",
       "      <td>2.0</td>\n",
       "      <td>100.0</td>\n",
       "      <td>0.0</td>\n",
       "      <td>1.0</td>\n",
       "      <td>0.0</td>\n",
       "      <td>1.0</td>\n",
       "      <td>3.0</td>\n",
       "      <td>3</td>\n",
       "      <td>6</td>\n",
       "      <td>4</td>\n",
       "      <td>1</td>\n",
       "    </tr>\n",
       "    <tr>\n",
       "      <th>2015-01-04 04:00:00</th>\n",
       "      <td>47</td>\n",
       "      <td>2.0</td>\n",
       "      <td>0.0</td>\n",
       "      <td>93.0</td>\n",
       "      <td>6.5</td>\n",
       "      <td>1.0</td>\n",
       "      <td>0.0</td>\n",
       "      <td>1.0</td>\n",
       "      <td>3.0</td>\n",
       "      <td>4</td>\n",
       "      <td>6</td>\n",
       "      <td>4</td>\n",
       "      <td>1</td>\n",
       "    </tr>\n",
       "  </tbody>\n",
       "</table>\n",
       "</div>"
      ],
      "text/plain": [
       "                     cnt   t1   t2    hum  wind_speed  ...  season  hour  day_of_week  day_of_month  month\n",
       "timestamp                                              ...                                                \n",
       "2015-01-04 00:00:00  182  3.0  2.0   93.0         6.0  ...     3.0     0            6             4      1\n",
       "2015-01-04 01:00:00  138  3.0  2.5   93.0         5.0  ...     3.0     1            6             4      1\n",
       "2015-01-04 02:00:00  134  2.5  2.5   96.5         0.0  ...     3.0     2            6             4      1\n",
       "2015-01-04 03:00:00   72  2.0  2.0  100.0         0.0  ...     3.0     3            6             4      1\n",
       "2015-01-04 04:00:00   47  2.0  0.0   93.0         6.5  ...     3.0     4            6             4      1\n",
       "\n",
       "[5 rows x 13 columns]"
      ]
     },
     "execution_count": 36,
     "metadata": {},
     "output_type": "execute_result"
    }
   ],
   "source": [
    "df.head()"
   ]
  },
  {
   "cell_type": "code",
   "execution_count": 37,
   "id": "6932f7d9",
   "metadata": {},
   "outputs": [
    {
     "data": {
      "text/plain": [
       "<AxesSubplot:xlabel='timestamp', ylabel='cnt'>"
      ]
     },
     "execution_count": 37,
     "metadata": {},
     "output_type": "execute_result"
    },
    {
     "data": {
      "image/png": "[encoded data removed]",
      "text/plain": [
       "<Figure size 432x288 with 1 Axes>"
      ]
     },
     "metadata": {
      "needs_background": "light"
     },
     "output_type": "display_data"
    }
   ],
   "source": [
    "sns.lineplot(x=df.index, y='cnt', data = df)"
   ]
  },
  {
   "cell_type": "code",
   "execution_count": 38,
   "id": "76c264ff",
   "metadata": {},
   "outputs": [
    {
     "data": {
      "text/plain": [
       "<AxesSubplot:xlabel='timestamp', ylabel='cnt'>"
      ]
     },
     "execution_count": 38,
     "metadata": {},
     "output_type": "execute_result"
    },
    {
     "data": {
      "image/png": "[encoded data removed]",
      "text/plain": [
       "<Figure size 432x288 with 1 Axes>"
      ]
     },
     "metadata": {
      "needs_background": "light"
     },
     "output_type": "display_data"
    }
   ],
   "source": [
    "df_by_month = df.resample('M').sum()\n",
    "sns.lineplot(x=df_by_month.index, y='cnt', data = df_by_month)"
   ]
  },
  {
   "cell_type": "code",
   "execution_count": 39,
   "id": "8e1d4cf6",
   "metadata": {},
   "outputs": [
    {
     "data": {
      "text/plain": [
       "<AxesSubplot:xlabel='hour', ylabel='cnt'>"
      ]
     },
     "execution_count": 39,
     "metadata": {},
     "output_type": "execute_result"
    },
    {
     "data": {
      "image/png": "[encoded data removed]",
      "text/plain": [
       "<Figure size 432x288 with 1 Axes>"
      ]
     },
     "metadata": {
      "needs_background": "light"
     },
     "output_type": "display_data"
    }
   ],
   "source": [
    "sns.pointplot(data=df, x='hour', y='cnt')"
   ]
  },
  {
   "cell_type": "code",
   "execution_count": 40,
   "id": "7a1871c8",
   "metadata": {},
   "outputs": [
    {
     "data": {
      "text/plain": [
       "<AxesSubplot:xlabel='hour', ylabel='cnt'>"
      ]
     },
     "execution_count": 40,
     "metadata": {},
     "output_type": "execute_result"
    },
    {
     "data": {
      "image/png": "[encoded data removed]",
      "text/plain": [
       "<Figure size 432x288 with 1 Axes>"
      ]
     },
     "metadata": {
      "needs_background": "light"
     },
     "output_type": "display_data"
    }
   ],
   "source": [
    "sns.pointplot(data=df, x='hour', y='cnt', hue='is_holiday')"
   ]
  },
  {
   "cell_type": "code",
   "execution_count": 41,
   "id": "3e945268",
   "metadata": {
    "scrolled": true
   },
   "outputs": [
    {
     "data": {
      "text/plain": [
       "<AxesSubplot:xlabel='day_of_week', ylabel='cnt'>"
      ]
     },
     "execution_count": 41,
     "metadata": {},
     "output_type": "execute_result"
    },
    {
     "data": {
      "image/png": "[encoded data removed]",
      "text/plain": [
       "<Figure size 432x288 with 1 Axes>"
      ]
     },
     "metadata": {
      "needs_background": "light"
     },
     "output_type": "display_data"
    }
   ],
   "source": [
    "sns.pointplot(data=df, x='day_of_week', y='cnt')"
   ]
  },
  {
   "cell_type": "markdown",
   "id": "59c44fab",
   "metadata": {},
   "source": [
    "## implement model"
   ]
  },
  {
   "cell_type": "code",
   "execution_count": 42,
   "id": "ee86ee86",
   "metadata": {},
   "outputs": [
    {
     "name": "stdout",
     "output_type": "stream",
     "text": [
      "(15672, 13) (1742, 13)\n"
     ]
    }
   ],
   "source": [
    "train_size = int(len(df) * 0.9)\n",
    "test_size = len(df)- train_size\n",
    "train, test = df.iloc[0:train_size], df.iloc[train_size:len(df)]\n",
    "\n",
    "print(train.shape, test.shape)"
   ]
  },
  {
   "cell_type": "markdown",
   "id": "141ccb24",
   "metadata": {},
   "source": [
    "### 1-preprocess data"
   ]
  },
  {
   "cell_type": "code",
   "execution_count": 50,
   "id": "9e5032d7",
   "metadata": {},
   "outputs": [
    {
     "name": "stderr",
     "output_type": "stream",
     "text": [
      "C:\\Users\\user\\anaconda3\\lib\\site-packages\\pandas\\core\\indexing.py:1738: SettingWithCopyWarning: \n",
      "A value is trying to be set on a copy of a slice from a DataFrame.\n",
      "Try using .loc[row_indexer,col_indexer] = value instead\n",
      "\n",
      "See the caveats in the documentation: https://pandas.pydata.org/pandas-docs/stable/user_guide/indexing.html#returning-a-view-versus-a-copy\n",
      "  self._setitem_single_column(loc, value[:, i].tolist(), pi)\n",
      "<ipython-input-50-4eb0ad8cfd07>:12: SettingWithCopyWarning: \n",
      "A value is trying to be set on a copy of a slice from a DataFrame.\n",
      "Try using .loc[row_indexer,col_indexer] = value instead\n",
      "\n",
      "See the caveats in the documentation: https://pandas.pydata.org/pandas-docs/stable/user_guide/indexing.html#returning-a-view-versus-a-copy\n",
      "  train['cnt'] = cnt_transformation.transform(train[['cnt']])\n",
      "C:\\Users\\user\\anaconda3\\lib\\site-packages\\pandas\\core\\indexing.py:1738: SettingWithCopyWarning: \n",
      "A value is trying to be set on a copy of a slice from a DataFrame.\n",
      "Try using .loc[row_indexer,col_indexer] = value instead\n",
      "\n",
      "See the caveats in the documentation: https://pandas.pydata.org/pandas-docs/stable/user_guide/indexing.html#returning-a-view-versus-a-copy\n",
      "  self._setitem_single_column(loc, value[:, i].tolist(), pi)\n",
      "<ipython-input-50-4eb0ad8cfd07>:19: SettingWithCopyWarning: \n",
      "A value is trying to be set on a copy of a slice from a DataFrame.\n",
      "Try using .loc[row_indexer,col_indexer] = value instead\n",
      "\n",
      "See the caveats in the documentation: https://pandas.pydata.org/pandas-docs/stable/user_guide/indexing.html#returning-a-view-versus-a-copy\n",
      "  test['cnt'] = cnt_transformation.transform(test[['cnt']])\n"
     ]
    }
   ],
   "source": [
    "from sklearn.preprocessing import RobustScaler\n",
    "\n",
    "f_columns = ['t1', 't2', 'hum', 'wind_speed']\n",
    "\n",
    "f_tranfromation = RobustScaler()\n",
    "cnt_transformation = RobustScaler()\n",
    "\n",
    "f_tranfromation= f_tranfromation.fit(train[f_columns].to_numpy())\n",
    "cnt_transformation = cnt_transformation.fit(train[['cnt']])\n",
    "\n",
    "train.loc[:, f_columns] = f_tranfromation.transform(train[f_columns].to_numpy())\n",
    "train['cnt'] = cnt_transformation.transform(train[['cnt']])\n",
    "\n",
    "### test data\n",
    "f_tranfromation= f_tranfromation.fit(test[f_columns].to_numpy())\n",
    "cnt_transformation = cnt_transformation.fit(test[['cnt']])\n",
    "\n",
    "test.loc[:, f_columns] = f_tranfromation.transform(test[f_columns].to_numpy())\n",
    "test['cnt'] = cnt_transformation.transform(test[['cnt']])  "
   ]
  },
  {
   "cell_type": "code",
   "execution_count": 59,
   "id": "329522a4",
   "metadata": {},
   "outputs": [],
   "source": [
    "def create_dataset(X, y, timestamp):\n",
    "    Xs, Ys = [], []\n",
    "    for i in range(len(X)-timestamp):\n",
    "        Xs.append(X.iloc[i: (i+ timestamp)].to_numpy())\n",
    "        Ys.append(y.iloc[i+ timestamp])\n",
    "    return np.array(Xs), np.array(Ys)"
   ]
  },
  {
   "cell_type": "code",
   "execution_count": 60,
   "id": "95095e2b",
   "metadata": {},
   "outputs": [],
   "source": [
    "TIME_STAMP = 24 #base 24hr befor predict next hour\n",
    "\n",
    "x_train, y_train = create_dataset(train, train.cnt, timestamp=TIME_STAMP)\n",
    "x_test, y_test = create_dataset(test, test.cnt, timestamp=TIME_STAMP)"
   ]
  },
  {
   "cell_type": "code",
   "execution_count": 62,
   "id": "1554ef22",
   "metadata": {},
   "outputs": [
    {
     "name": "stdout",
     "output_type": "stream",
     "text": [
      "(15648, 24, 13) (15648,) (1718, 24, 13) (1718,)\n"
     ]
    }
   ],
   "source": [
    "print(x_train.shape, y_train.shape, x_test.shape, y_test.shape)"
   ]
  },
  {
   "cell_type": "markdown",
   "id": "02e07da4",
   "metadata": {},
   "source": [
    "we have 15648 sample and 24 is timestamp and 13 is feature"
   ]
  },
  {
   "cell_type": "code",
   "execution_count": 70,
   "id": "4782eea4",
   "metadata": {},
   "outputs": [],
   "source": [
    "model=keras.Sequential([\n",
    "    keras.layers.LSTM(550,kernel_regularizer=keras.regularizers.l1(0.00001),\n",
    "                     input_shape=(x_train.shape[1],x_train.shape[2]), return_sequences=True,activation='tanh'),\n",
    "    keras.layers.LSTM(400,return_sequences=True,activation='tanh'),\n",
    "    keras.layers.LSTM(300,kernel_regularizer=keras.regularizers.l2(0.00001),return_sequences=True,activation='tanh'),\n",
    "    keras.layers.LSTM(200,kernel_regularizer=keras.regularizers.l2(0.001),return_sequences=False,activation='tanh'),\n",
    "\n",
    "    keras.layers.Dense(100,activation='tanh'),\n",
    "    keras.layers.Dropout(0.5),\n",
    "    keras.layers.Dense(50,activation='tanh'),\n",
    "    keras.layers.Dense(1)\n",
    "    \n",
    "])\n",
    "\n"
   ]
  },
  {
   "cell_type": "code",
   "execution_count": 71,
   "id": "107e402c",
   "metadata": {},
   "outputs": [],
   "source": [
    "model.compile(loss = 'mean_squared_error', optimizer = 'adam')"
   ]
  },
  {
   "cell_type": "code",
   "execution_count": 72,
   "id": "6cdf071c",
   "metadata": {},
   "outputs": [
    {
     "name": "stdout",
     "output_type": "stream",
     "text": [
      "Epoch 1/20\n",
      "441/441 [==============================] - 201s 446ms/step - loss: 0.5991 - val_loss: 0.6436\n",
      "Epoch 2/20\n",
      "441/441 [==============================] - 192s 436ms/step - loss: 0.3045 - val_loss: 0.3863\n",
      "Epoch 3/20\n",
      "441/441 [==============================] - 194s 440ms/step - loss: 0.1873 - val_loss: 0.2597\n",
      "Epoch 4/20\n",
      "441/441 [==============================] - 200s 454ms/step - loss: 0.1531 - val_loss: 0.2251\n",
      "Epoch 5/20\n",
      "441/441 [==============================] - 194s 439ms/step - loss: 0.1501 - val_loss: 0.1796\n",
      "Epoch 6/20\n",
      "441/441 [==============================] - 197s 447ms/step - loss: 0.1205 - val_loss: 0.2221\n",
      "Epoch 7/20\n",
      "441/441 [==============================] - 201s 456ms/step - loss: 0.1144 - val_loss: 0.1439\n",
      "Epoch 8/20\n",
      "441/441 [==============================] - 194s 440ms/step - loss: 0.1015 - val_loss: 0.1110\n",
      "Epoch 9/20\n",
      "441/441 [==============================] - 194s 440ms/step - loss: 0.0778 - val_loss: 0.0702\n",
      "Epoch 10/20\n",
      "441/441 [==============================] - 194s 440ms/step - loss: 0.0669 - val_loss: 0.0591\n",
      "Epoch 11/20\n",
      "441/441 [==============================] - 194s 440ms/step - loss: 0.0580 - val_loss: 0.0516\n",
      "Epoch 12/20\n",
      "441/441 [==============================] - 194s 440ms/step - loss: 0.0502 - val_loss: 0.0514\n",
      "Epoch 13/20\n",
      "441/441 [==============================] - 195s 441ms/step - loss: 0.0489 - val_loss: 0.0448\n",
      "Epoch 14/20\n",
      "441/441 [==============================] - 194s 440ms/step - loss: 0.0407 - val_loss: 0.0478\n",
      "Epoch 15/20\n",
      "441/441 [==============================] - 195s 441ms/step - loss: 0.0352 - val_loss: 0.0436\n",
      "Epoch 16/20\n",
      "441/441 [==============================] - 194s 441ms/step - loss: 0.0327 - val_loss: 0.0394\n",
      "Epoch 17/20\n",
      "441/441 [==============================] - 193s 438ms/step - loss: 0.0296 - val_loss: 0.0353\n",
      "Epoch 18/20\n",
      "441/441 [==============================] - 193s 437ms/step - loss: 0.0338 - val_loss: 0.0358\n",
      "Epoch 19/20\n",
      "441/441 [==============================] - 193s 438ms/step - loss: 0.0295 - val_loss: 0.0348\n",
      "Epoch 20/20\n",
      "441/441 [==============================] - 193s 437ms/step - loss: 0.0257 - val_loss: 0.0323\n"
     ]
    }
   ],
   "source": [
    "history =  model.fit(\n",
    "    x_train, y_train,\n",
    "    epochs = 20,\n",
    "    batch_size = 32,\n",
    "    validation_split = 0.1,\n",
    "    shuffle = False\n",
    ")  "
   ]
  },
  {
   "cell_type": "code",
   "execution_count": 78,
   "id": "70ecc31e",
   "metadata": {},
   "outputs": [],
   "source": [
    "model1 = keras.Sequential()\n",
    "model1.add(\n",
    "      keras.layers.Conv1D(filters=32,\n",
    "                          kernel_size=2,\n",
    "                          strides=1,\n",
    "                          dilation_rate=dilation_rate,\n",
    "                          padding=\"causal\",\n",
    "                          activation=\"relu\")\n",
    "model1.add(\n",
    "    keras.layers.Bidirectional(\n",
    "        keras.layers.LSTM(\n",
    "            units = 128,\n",
    "            input_shape = (x_train.shape[1],x_train.shape[2])\n",
    "        )\n",
    "    )\n",
    ")\n",
    "model1.add(keras.layers.Dropout(rate = 0.2))\n",
    "model1.add(keras.layers.Dense(1))"
   ]
  },
  {
   "cell_type": "code",
   "execution_count": 79,
   "id": "63bbe637",
   "metadata": {},
   "outputs": [],
   "source": [
    "model1.compile(loss = 'mean_squared_error', optimizer = 'adam')"
   ]
  },
  {
   "cell_type": "code",
   "execution_count": 80,
   "id": "e45c54d3",
   "metadata": {},
   "outputs": [
    {
     "name": "stdout",
     "output_type": "stream",
     "text": [
      "Epoch 1/20\n",
      "441/441 [==============================] - 10s 16ms/step - loss: 0.2974 - val_loss: 0.2168\n",
      "Epoch 2/20\n",
      "441/441 [==============================] - 7s 15ms/step - loss: 0.1216 - val_loss: 0.0684\n",
      "Epoch 3/20\n",
      "441/441 [==============================] - 7s 15ms/step - loss: 0.0629 - val_loss: 0.0500\n",
      "Epoch 4/20\n",
      "441/441 [==============================] - 7s 15ms/step - loss: 0.0491 - val_loss: 0.0465\n",
      "Epoch 5/20\n",
      "441/441 [==============================] - 7s 15ms/step - loss: 0.0403 - val_loss: 0.0429\n",
      "Epoch 6/20\n",
      "441/441 [==============================] - 7s 15ms/step - loss: 0.0334 - val_loss: 0.0331\n",
      "Epoch 7/20\n",
      "441/441 [==============================] - 7s 15ms/step - loss: 0.0279 - val_loss: 0.0344\n",
      "Epoch 8/20\n",
      "441/441 [==============================] - 7s 15ms/step - loss: 0.0255 - val_loss: 0.0325\n",
      "Epoch 9/20\n",
      "441/441 [==============================] - 7s 15ms/step - loss: 0.0236 - val_loss: 0.0317\n",
      "Epoch 10/20\n",
      "441/441 [==============================] - 7s 15ms/step - loss: 0.0228 - val_loss: 0.0303\n",
      "Epoch 11/20\n",
      "441/441 [==============================] - 7s 15ms/step - loss: 0.0210 - val_loss: 0.0376\n",
      "Epoch 12/20\n",
      "441/441 [==============================] - 7s 15ms/step - loss: 0.0202 - val_loss: 0.0289\n",
      "Epoch 13/20\n",
      "441/441 [==============================] - 7s 15ms/step - loss: 0.0206 - val_loss: 0.0301\n",
      "Epoch 14/20\n",
      "441/441 [==============================] - 7s 16ms/step - loss: 0.0190 - val_loss: 0.0280\n",
      "Epoch 15/20\n",
      "441/441 [==============================] - 7s 15ms/step - loss: 0.0175 - val_loss: 0.0309\n",
      "Epoch 16/20\n",
      "441/441 [==============================] - 7s 15ms/step - loss: 0.0181 - val_loss: 0.0236\n",
      "Epoch 17/20\n",
      "441/441 [==============================] - 7s 15ms/step - loss: 0.0173 - val_loss: 0.0271\n",
      "Epoch 18/20\n",
      "441/441 [==============================] - 7s 15ms/step - loss: 0.0175 - val_loss: 0.0206\n",
      "Epoch 19/20\n",
      "441/441 [==============================] - 7s 15ms/step - loss: 0.0170 - val_loss: 0.0231\n",
      "Epoch 20/20\n",
      "441/441 [==============================] - 7s 15ms/step - loss: 0.0160 - val_loss: 0.0204\n"
     ]
    }
   ],
   "source": [
    "history =  model1.fit(\n",
    "    x_train, y_train,\n",
    "    epochs = 20,\n",
    "    batch_size = 32,\n",
    "    validation_split = 0.1,\n",
    "    shuffle = False\n",
    ")  "
   ]
  },
  {
   "cell_type": "code",
   "execution_count": 83,
   "id": "aed18dc1",
   "metadata": {},
   "outputs": [
    {
     "data": {
      "text/plain": [
       "<matplotlib.legend.Legend at 0x1c8bd0defd0>"
      ]
     },
     "execution_count": 83,
     "metadata": {},
     "output_type": "execute_result"
    },
    {
     "data": {
      "image/png": "[encoded data removed]",
      "text/plain": [
       "<Figure size 432x288 with 1 Axes>"
      ]
     },
     "metadata": {
      "needs_background": "light"
     },
     "output_type": "display_data"
    }
   ],
   "source": [
    "plt.plot(history.history['loss'], label = 'train')\n",
    "plt.plot(history.history['val_loss'], label = 'validation')\n",
    "plt.legend()"
   ]
  },
  {
   "cell_type": "code",
   "execution_count": 84,
   "id": "df9c8cd9",
   "metadata": {},
   "outputs": [],
   "source": [
    "y_pred = model1.predict(x_test)"
   ]
  },
  {
   "cell_type": "code",
   "execution_count": 85,
   "id": "9af76939",
   "metadata": {},
   "outputs": [],
   "source": [
    "y_test_inv = cnt_transformation.inverse_transform(y_train.reshape(1, -1))\n",
    "y_train_inv = cnt_transformation.inverse_transform(y_test.reshape(1, -1))\n",
    "y_pred_inv = cnt_transformation.inverse_transform(y_pred)"
   ]
  },
  {
   "cell_type": "code",
   "execution_count": 98,
   "id": "bb4a331b",
   "metadata": {},
   "outputs": [
    {
     "data": {
      "text/plain": [
       "<matplotlib.legend.Legend at 0x1c8929dd5e0>"
      ]
     },
     "execution_count": 98,
     "metadata": {},
     "output_type": "execute_result"
    },
    {
     "data": {
      "image/png": "[encoded data removed]",
      "text/plain": [
       "<Figure size 720x144 with 1 Axes>"
      ]
     },
     "metadata": {
      "needs_background": "light"
     },
     "output_type": "display_data"
    }
   ],
   "source": [
    "plt.plot(y_test_inv.flatten(), marker='.', label='True')\n",
    "plt.plot(y_pred_inv.flatten(), 'r', label='prediction')\n",
    "plt.rcParams[\"figure.figsize\"] = (20,2)\n",
    "plt.legend()"
   ]
  },
  {
   "cell_type": "code",
   "execution_count": 103,
   "id": "986a9f83",
   "metadata": {},
   "outputs": [
    {
     "data": {
      "text/plain": [
       "array([2.93279389, 1.21105866, 0.22027422, 0.21757698, 0.41087885,\n",
       "       0.51337379, 0.47651158, 0.51786918, 0.97550011, 2.77095977])"
      ]
     },
     "execution_count": 103,
     "metadata": {},
     "output_type": "execute_result"
    }
   ],
   "source": [
    "y_test[0: 10]"
   ]
  },
  {
   "cell_type": "code",
   "execution_count": 102,
   "id": "ff062842",
   "metadata": {},
   "outputs": [
    {
     "data": {
      "text/plain": [
       "array([[2.221907  ],\n",
       "       [1.1507758 ],\n",
       "       [0.33309576],\n",
       "       [0.19538072],\n",
       "       [0.4788674 ],\n",
       "       [0.5175414 ],\n",
       "       [0.5035876 ],\n",
       "       [0.54219615],\n",
       "       [0.7319092 ],\n",
       "       [1.9731963 ]], dtype=float32)"
      ]
     },
     "execution_count": 102,
     "metadata": {},
     "output_type": "execute_result"
    }
   ],
   "source": [
    "y_pred[0: 10]"
   ]
  },
  {
   "cell_type": "code",
   "execution_count": 118,
   "id": "36caee98",
   "metadata": {},
   "outputs": [],
   "source": [
    "model2 = keras.Sequential()\n",
    "model2.add(\n",
    "      keras.layers.Conv1D(filters=32,\n",
    "                          kernel_size=2,\n",
    "                          strides=1,\n",
    "                          padding=\"causal\",\n",
    "                          activation=\"relu\")\n",
    ")\n",
    "model2.add(\n",
    "    keras.layers.Bidirectional(\n",
    "        keras.layers.LSTM(\n",
    "            units = 128,\n",
    "            input_shape = (x_train.shape[1],x_train.shape[2])\n",
    "        )\n",
    "    )\n",
    ")\n",
    "model2.add(keras.layers.Dropout(rate = 0.2))\n",
    "model2.add(keras.layers.Dense(1))"
   ]
  },
  {
   "cell_type": "code",
   "execution_count": 109,
   "id": "6ab7b47b",
   "metadata": {},
   "outputs": [],
   "source": [
    "model2.compile(loss = 'mean_squared_error', optimizer = 'adam')"
   ]
  },
  {
   "cell_type": "code",
   "execution_count": 110,
   "id": "845d0a13",
   "metadata": {},
   "outputs": [
    {
     "name": "stdout",
     "output_type": "stream",
     "text": [
      "Epoch 1/20\n",
      "441/441 [==============================] - 8s 16ms/step - loss: 0.0160 - val_loss: 0.0215\n",
      "Epoch 2/20\n",
      "441/441 [==============================] - 7s 16ms/step - loss: 0.0179 - val_loss: 0.0204\n",
      "Epoch 3/20\n",
      "441/441 [==============================] - 7s 16ms/step - loss: 0.0158 - val_loss: 0.0241\n",
      "Epoch 4/20\n",
      "441/441 [==============================] - 7s 16ms/step - loss: 0.0150 - val_loss: 0.0193\n",
      "Epoch 5/20\n",
      "441/441 [==============================] - 7s 16ms/step - loss: 0.0147 - val_loss: 0.0217\n",
      "Epoch 6/20\n",
      "441/441 [==============================] - 7s 16ms/step - loss: 0.0145 - val_loss: 0.0193\n",
      "Epoch 7/20\n",
      "441/441 [==============================] - 7s 16ms/step - loss: 0.0142 - val_loss: 0.0193\n",
      "Epoch 8/20\n",
      "441/441 [==============================] - 7s 16ms/step - loss: 0.0137 - val_loss: 0.0189\n",
      "Epoch 9/20\n",
      "441/441 [==============================] - 7s 16ms/step - loss: 0.0141 - val_loss: 0.0258\n",
      "Epoch 10/20\n",
      "441/441 [==============================] - 7s 16ms/step - loss: 0.0142 - val_loss: 0.0186\n",
      "Epoch 11/20\n",
      "441/441 [==============================] - 7s 16ms/step - loss: 0.0137 - val_loss: 0.0233\n",
      "Epoch 12/20\n",
      "441/441 [==============================] - 7s 16ms/step - loss: 0.0143 - val_loss: 0.0188\n",
      "Epoch 13/20\n",
      "441/441 [==============================] - 7s 16ms/step - loss: 0.0141 - val_loss: 0.0327\n",
      "Epoch 14/20\n",
      "441/441 [==============================] - 7s 16ms/step - loss: 0.0132 - val_loss: 0.0177\n",
      "Epoch 15/20\n",
      "441/441 [==============================] - 7s 16ms/step - loss: 0.0126 - val_loss: 0.0214\n",
      "Epoch 16/20\n",
      "441/441 [==============================] - 7s 16ms/step - loss: 0.0134 - val_loss: 0.0187\n",
      "Epoch 17/20\n",
      "441/441 [==============================] - 7s 16ms/step - loss: 0.0127 - val_loss: 0.0196\n",
      "Epoch 18/20\n",
      "441/441 [==============================] - 7s 16ms/step - loss: 0.0133 - val_loss: 0.0207\n",
      "Epoch 19/20\n",
      "441/441 [==============================] - 7s 16ms/step - loss: 0.0138 - val_loss: 0.0212\n",
      "Epoch 20/20\n",
      "441/441 [==============================] - 7s 16ms/step - loss: 0.0122 - val_loss: 0.0213\n"
     ]
    }
   ],
   "source": [
    "history2 =  model1.fit(\n",
    "    x_train, y_train,\n",
    "    epochs = 20,\n",
    "    batch_size = 32,\n",
    "    validation_split = 0.1,\n",
    "    shuffle = False\n",
    ")  "
   ]
  },
  {
   "cell_type": "code",
   "execution_count": null,
   "id": "9123073e",
   "metadata": {},
   "outputs": [],
   "source": []
  }
 ],
 "metadata": {
  "kernelspec": {
   "display_name": "Python 3",
   "language": "python",
   "name": "python3"
  },
  "language_info": {
   "codemirror_mode": {
    "name": "ipython",
    "version": 3
   },
   "file_extension": ".py",
   "mimetype": "text/x-python",
   "name": "python",
   "nbconvert_exporter": "python",
   "pygments_lexer": "ipython3",
   "version": "3.8.8"
  }
 },
 "nbformat": 4,
 "nbformat_minor": 5
}
